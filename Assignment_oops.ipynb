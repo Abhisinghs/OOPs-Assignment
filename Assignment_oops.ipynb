{
 "cells": [
  {
   "cell_type": "code",
   "execution_count": null,
   "id": "c613b2b7-9840-4358-aa73-7b92066202e5",
   "metadata": {},
   "outputs": [],
   "source": [
    "Answer_1\n",
    "\n",
    "open() method is used to open a file in python .\n",
    "\n",
    "1.open a file \n",
    "2.read and write the file \n",
    "3.close the file\n",
    "  "
   ]
  },
  {
   "cell_type": "code",
   "execution_count": 4,
   "id": "388e21b9-78da-4770-b748-4032a15883e7",
   "metadata": {},
   "outputs": [],
   "source": [
    "#open a file\n",
    "file=open(\"test.txt\")"
   ]
  },
  {
   "cell_type": "code",
   "execution_count": null,
   "id": "1b53c365-95c8-4fcf-83e5-4c7e5c7484ec",
   "metadata": {},
   "outputs": [],
   "source": [
    "#different mode of open a file\n",
    "\n",
    "file=open(\"test.txt\",'r')    #open a file for reading mode\n",
    "\n",
    "file=open(\"test.txt\",'w')    #open a file for writing mode.create new file if file does not exsist or truncate \n",
    "                             #the file if file is exsist\n",
    "\n",
    "file=open(\"test.txt\",'a')    #open a file for appending end of the file without truncating the file.\n",
    "\n",
    "file=open(\"test.txt\",'t')    #open a file in text mode\n",
    "\n",
    "file=open(\"test.txt\",'b')    #open a file in binary mode"
   ]
  },
  {
   "cell_type": "code",
   "execution_count": null,
   "id": "34509655-ee19-4358-a518-edd0d7a4a08c",
   "metadata": {},
   "outputs": [],
   "source": [
    "Answer_2\n",
    "\n",
    "close() function is used to close an open file.\n",
    "it is important to close a file due to buffering and changes made to a file may not \n",
    "show until we close the file.\n",
    "making sure files are closed after use will protect against hard-to-debug issues like\n",
    "running out of file handles or experiencing corrupted data."
   ]
  },
  {
   "cell_type": "code",
   "execution_count": 11,
   "id": "f9ae5ac2-6c64-4fc7-8bee-4078901bb8fa",
   "metadata": {},
   "outputs": [],
   "source": [
    "#Answer_3\n",
    "#create a file and write \n",
    "f = open(\"test1.txt\",'w')"
   ]
  },
  {
   "cell_type": "code",
   "execution_count": 12,
   "id": "272dbe20-452e-4a41-8a83-c51b24f51eb7",
   "metadata": {},
   "outputs": [
    {
     "data": {
      "text/plain": [
       "33"
      ]
     },
     "execution_count": 12,
     "metadata": {},
     "output_type": "execute_result"
    }
   ],
   "source": [
    "f.write('I want to become a data scientist')"
   ]
  },
  {
   "cell_type": "code",
   "execution_count": 13,
   "id": "f1b07acc-3954-42cf-ade1-c45a9528ba7a",
   "metadata": {},
   "outputs": [],
   "source": [
    "f.close() #close the file because changes will be not show without closing the file"
   ]
  },
  {
   "cell_type": "code",
   "execution_count": 14,
   "id": "d32c8445-b239-45bc-bb51-a4d4b11ceec5",
   "metadata": {},
   "outputs": [],
   "source": [
    "f = open(\"test1.txt\",'r')"
   ]
  },
  {
   "cell_type": "code",
   "execution_count": 15,
   "id": "aad84e0e-cdde-4712-8bd3-02f285f6a708",
   "metadata": {},
   "outputs": [
    {
     "data": {
      "text/plain": [
       "'I want to become a data scientist'"
      ]
     },
     "execution_count": 15,
     "metadata": {},
     "output_type": "execute_result"
    }
   ],
   "source": [
    "f.read()"
   ]
  },
  {
   "cell_type": "code",
   "execution_count": 16,
   "id": "bc035fd3-3a2f-4fe8-840b-ff95d64c6ee5",
   "metadata": {},
   "outputs": [],
   "source": [
    "f.close()"
   ]
  },
  {
   "cell_type": "code",
   "execution_count": 17,
   "id": "b03bded3-6c44-462e-9c77-b5254744370b",
   "metadata": {},
   "outputs": [],
   "source": [
    "# Answer_4\n",
    "\n",
    "# read() method is used to read the whole file at once\n",
    "f=open(\"test1.txt\",'r')\n"
   ]
  },
  {
   "cell_type": "code",
   "execution_count": 18,
   "id": "81e2d739-83e3-4e7b-b247-614b8df72a7e",
   "metadata": {},
   "outputs": [
    {
     "data": {
      "text/plain": [
       "'I want to become a data scientist'"
      ]
     },
     "execution_count": 18,
     "metadata": {},
     "output_type": "execute_result"
    }
   ],
   "source": [
    "f.read()\n",
    "#return the whole file at once"
   ]
  },
  {
   "cell_type": "code",
   "execution_count": 26,
   "id": "99ebbede-b201-4ca2-bf15-1cd20d25cfa6",
   "metadata": {},
   "outputs": [
    {
     "data": {
      "text/plain": [
       "'I want to become a data scientist\\n'"
      ]
     },
     "execution_count": 26,
     "metadata": {},
     "output_type": "execute_result"
    }
   ],
   "source": [
    "#readline() this method is used to read line by line of file\n",
    "f.seek(0)    #this is used to pointer that indicates read at 0 index\n",
    "f.readline()"
   ]
  },
  {
   "cell_type": "code",
   "execution_count": 29,
   "id": "3e26d7c1-de77-47ca-9e79-7c761ff71ed8",
   "metadata": {},
   "outputs": [
    {
     "data": {
      "text/plain": [
       "['I want to become a data scientist\\n',\n",
       " 'array questions\\n',\n",
       " '  \\n',\n",
       " '.Initialise all variable by one\\n',\n",
       " '.Find minimum and maximum element in an array\\n',\n",
       " '.check no is power of 2hai ya nahi\\n',\n",
       " '.check no. is present or not by linear search\\n',\n",
       " '.reverse of an array\\n',\n",
       " '.swap alternate element\\n',\n",
       " '.find unique element in an array']"
      ]
     },
     "execution_count": 29,
     "metadata": {},
     "output_type": "execute_result"
    }
   ],
   "source": [
    "#readlines() this method is used to return file as list form and each line act as element of list\n",
    "f.seek(0)\n",
    "f.readlines()"
   ]
  },
  {
   "cell_type": "code",
   "execution_count": 30,
   "id": "9a440952-dc93-4c30-b975-8924b4c64217",
   "metadata": {},
   "outputs": [],
   "source": [
    "f.close()"
   ]
  },
  {
   "cell_type": "code",
   "execution_count": null,
   "id": "7be38424-3669-4486-86d6-1e2ca5d15277",
   "metadata": {},
   "outputs": [],
   "source": [
    "#Answer_5\n",
    "\n",
    "The with statement works with the open() function to open a file. Unlike open() where\n",
    "you have to close the file with the close() method, the with statement closes the file \n",
    "for you without you telling it to. This is because the with statement calls 2 built-in methods \n",
    "behind the scene – __enter()__ and __exit()__ .\n",
    "\n",
    "advantage of that statement it will close the file automatically without telling to you."
   ]
  },
  {
   "cell_type": "code",
   "execution_count": 33,
   "id": "ac1d5a1f-20cf-470b-bdf9-7d3431273399",
   "metadata": {},
   "outputs": [
    {
     "name": "stdout",
     "output_type": "stream",
     "text": [
      "I want to become a data scientist\n",
      "array questions\n",
      "  \n",
      ".Initialise all variable by one\n",
      ".Find minimum and maximum element in an array\n",
      ".check no is power of 2hai ya nahi\n",
      ".check no. is present or not by linear search\n",
      ".reverse of an array\n",
      ".swap alternate element\n",
      ".find unique element in an array\n"
     ]
    }
   ],
   "source": [
    "with open(\"test1.txt\",'r') as f :\n",
    "    print(f.read())"
   ]
  },
  {
   "cell_type": "code",
   "execution_count": null,
   "id": "459699fb-92b3-4312-83f2-a8fcf0b557d1",
   "metadata": {},
   "outputs": [],
   "source": [
    "# Answer_6\n",
    "\n",
    "The only difference between the write() and writelines() is that write() is\n",
    "used to write a string to an already opened file while writelines() method is \n",
    "used to write a list of strings in an opened file."
   ]
  },
  {
   "cell_type": "code",
   "execution_count": 35,
   "id": "d4dc5190-764e-4a10-965f-bc746ed493da",
   "metadata": {},
   "outputs": [],
   "source": [
    "with open(\"test1.txt\",'w') as f:\n",
    "    f.write(\"i am doing more practice to excellent in my job\")"
   ]
  },
  {
   "cell_type": "code",
   "execution_count": 39,
   "id": "7fe9c749-bece-45ce-894a-65455a50d29b",
   "metadata": {},
   "outputs": [
    {
     "name": "stdin",
     "output_type": "stream",
     "text": [
      "Enter the name of the employee:  abhi\n",
      "Enter the name of the employee:  sumit\n",
      "Enter the name of the employee:  sarthak\n"
     ]
    },
    {
     "name": "stdout",
     "output_type": "stream",
     "text": [
      "Data is written into the file.\n"
     ]
    }
   ],
   "source": [
    "file1 = open(\"test1.txt\", \"w\")\n",
    "lst = []\n",
    "for i in range(3):\n",
    "\tname = input(\"Enter the name of the employee: \")\n",
    "\tlst.append(name + '\\n')\n",
    "\t\n",
    "file1.writelines(lst)\n",
    "file1.close()\n",
    "print(\"Data is written into the file.\")\n"
   ]
  },
  {
   "cell_type": "code",
   "execution_count": null,
   "id": "ed2854be-b72c-4eeb-bdfe-526d9070d965",
   "metadata": {},
   "outputs": [],
   "source": []
  }
 ],
 "metadata": {
  "kernelspec": {
   "display_name": "Python 3 (ipykernel)",
   "language": "python",
   "name": "python3"
  },
  "language_info": {
   "codemirror_mode": {
    "name": "ipython",
    "version": 3
   },
   "file_extension": ".py",
   "mimetype": "text/x-python",
   "name": "python",
   "nbconvert_exporter": "python",
   "pygments_lexer": "ipython3",
   "version": "3.10.8"
  }
 },
 "nbformat": 4,
 "nbformat_minor": 5
}
